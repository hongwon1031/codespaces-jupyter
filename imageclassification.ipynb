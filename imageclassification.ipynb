{
 "cells": [
  {
   "cell_type": "code",
   "execution_count": 3,
   "metadata": {},
   "outputs": [],
   "source": [
    "# Azure의 Custom Vision 라이브러리를 추가. 예측을 위하여 prediction을 포함\n",
    "from azure.cognitiveservices.vision.customvision.prediction import CustomVisionPredictionClient\n",
    " # OpenAPI스펙에 맞춰서 Authentication을 처리할 수 있도록 해주는 코드\n",
    "from msrest.authentication import ApiKeyCredentials\n",
    " # Matplotlib의 pyplot을 포함하여 예측 결과를 그리기\n",
    "from matplotlib import pyplot as plt\n",
    " # Python Image 라이브러리로 이미지 그리기\n",
    "from PIL import Image, ImageDraw, ImageFont\n",
    " # Python Numpy (수학 및 과학 연산 패키지) 포함\n",
    "import numpy as np\n",
    " # 파일 처리 작업을 위해 os라이브러리 포함\n",
    "import os"
   ]
  },
  {
   "cell_type": "code",
   "execution_count": 2,
   "metadata": {},
   "outputs": [],
   "source": [
    "prediction_endpoint = 'https://6b034cv20250210-prediction.cognitiveservices.azure.com'\n",
    "prediction_key = 'SECRET KEY'\n",
    "project_id ='e52db883-4be2-4e55-8c66-258113e1a7f4'\n",
    "model_name = 'Iteration1'"
   ]
  },
  {
   "cell_type": "code",
   "execution_count": 4,
   "metadata": {},
   "outputs": [],
   "source": [
    " # 앞에서 지정한 API KEY를 써서 커스텀 비전 모델을 사용할 클라이언트를 인증\n",
    "credentials = ApiKeyCredentials(in_headers={\"Prediction-key\": prediction_key})\n",
    " # endpoint를 써서 클라이언트 등록\n",
    "predictor = CustomVisionPredictionClient(endpoint=prediction_endpoint, credentials=credentials)"
   ]
  },
  {
   "cell_type": "code",
   "execution_count": 19,
   "metadata": {},
   "outputs": [],
   "source": [
    "# 테스트 이미지를 Codespace workspace에 추가한 후 image_file 변수로 지정\n",
    "image_file = \"./data/Crustal_Anorthosite_s71-42956.jpg\""
   ]
  },
  {
   "cell_type": "code",
   "execution_count": 20,
   "metadata": {},
   "outputs": [
    {
     "name": "stdout",
     "output_type": "stream",
     "text": [
      "Tag: Highland, Probability: 0.92\n",
      "Tag: Basalt, Probability: 0.08\n"
     ]
    }
   ],
   "source": [
    "# 테스트 이미지를 열고 모델에 적용해서 결과를 저장\n",
    "with open(image_file, mode=\"rb\") as image_data:\n",
    "    results = predictor.classify_image(project_id, model_name, image_data)\n",
    " # 예측한 결과를 출력\n",
    "for prediction in results.predictions:\n",
    "    print(f\"Tag: {prediction.tag_name}, Probability: {prediction.probability:.2f}\")"
   ]
  },
  {
   "cell_type": "code",
   "execution_count": null,
   "metadata": {},
   "outputs": [],
   "source": []
  }
 ],
 "metadata": {
  "kernelspec": {
   "display_name": "Python 3",
   "language": "python",
   "name": "python3"
  },
  "language_info": {
   "codemirror_mode": {
    "name": "ipython",
    "version": 3
   },
   "file_extension": ".py",
   "mimetype": "text/x-python",
   "name": "python",
   "nbconvert_exporter": "python",
   "pygments_lexer": "ipython3",
   "version": "3.13.1"
  }
 },
 "nbformat": 4,
 "nbformat_minor": 2
}
